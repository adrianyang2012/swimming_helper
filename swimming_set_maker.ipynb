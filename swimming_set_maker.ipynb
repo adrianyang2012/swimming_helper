{
  "nbformat": 4,
  "nbformat_minor": 0,
  "metadata": {
    "colab": {
      "private_outputs": true,
      "provenance": [],
      "authorship_tag": "ABX9TyO4mqMdJnYNr0lZnWt7hx/U",
      "include_colab_link": true
    },
    "kernelspec": {
      "name": "python3",
      "display_name": "Python 3"
    },
    "language_info": {
      "name": "python"
    }
  },
  "cells": [
    {
      "cell_type": "markdown",
      "metadata": {
        "id": "view-in-github",
        "colab_type": "text"
      },
      "source": [
        "<a href=\"https://colab.research.google.com/github/adrianyang2012/swimming_helper/blob/main/swimming_set_maker.ipynb\" target=\"_parent\"><img src=\"https://colab.research.google.com/assets/colab-badge.svg\" alt=\"Open In Colab\"/></a>"
      ]
    },
    {
      "cell_type": "code",
      "execution_count": null,
      "metadata": {
        "id": "SiAAaianZbv6"
      },
      "outputs": [],
      "source": [
        "from google.colab import drive\n",
        "drive.mount('/content/drive')\n",
        "\n",
        "class swimming_set():\n",
        "  def __init__(self,title,difficulty=\"meduim\"):\n",
        "    self.title = title\n",
        "    self.difficulty = difficulty\n",
        "    self.activites = []\n",
        "    self.amount = 0\n",
        "  def add_event(self,event_name,amount=25,time=\"no time\"):\n",
        "    try:\n",
        "      self.amount += int(amount)\n",
        "    except:\n",
        "      self.amount += eval(amount)\n",
        "    if time != \"no time\":\n",
        "      \n",
        "      self.activites.append([amount,event_name,time])\n",
        "    else:\n",
        "      self.activites.append([amount,event_name])\n",
        "    return\n",
        "  def remove_event(self,event_number):\n",
        "    try:\n",
        "      self.amount -= int(self.activites[int(event_number)][0])\n",
        "      self.activites.remove(self.activites[int(event_number)])\n",
        "      \n",
        "    except Exception as e:\n",
        "      print(\"that is not a valid event\")\n",
        "  def show_full_set(self,final_one=0):\n",
        "    with open(\"drive/My Drive/all_sets.txt\", \"a\") as set_writer:\n",
        "\n",
        "      print(f\"Title name:{self.title}, difficulty:{self.difficulty}\")\n",
        "      a= f\"Title name:{self.title}, difficulty:{self.difficulty}\\n\"\n",
        "      if final_one:\n",
        "        set_writer.write(a)\n",
        "      for i in range(0,len(self.activites)):\n",
        "        try:\n",
        "          a = f\"{i+1}. {self.activites[i][0]} {self.activites[i][1]} {self.activites[i][2]}\\n \"\n",
        "          if final_one:\n",
        "            set_writer.write(a)\n",
        "          \n",
        "          print(f\"{i+1}. {self.activites[i][0]} {self.activites[i][1]} {self.activites[i][2]}\\n \")\n",
        "        except:\n",
        "          a = f\"{i+1}. {self.activites[i][0]} {self.activites[i][1]}\\n\"\n",
        "          if final_one:\n",
        "            set_writer.write(a)\n",
        "          print(f\"{i+1}. {self.activites[i][0]} {self.activites[i][1]}\\n\")\n",
        "      \n",
        "      print(f\"total amount:{self.amount}\")\n",
        "      a = f\"total amount:{self.amount}\\n\"\n",
        "      if final_one:\n",
        "        set_writer.write(a)\n",
        "        set_writer.write(\"________________________________________________________\\n\")\n",
        "title = input('what is the title: ')\n",
        "difficulty = input('what is the diffuclty: ')\n",
        "Set = swimming_set(title,difficulty)\n",
        "while True:\n",
        "  print('type exit to exit')\n",
        "  print('type add to add and remove to remove and see set to see set')\n",
        "  option = input()\n",
        "  if option == \"add\":\n",
        "    Set.add_event(input(\"type in the event name: \"), input(\"type in the number of feet/meters: \"), input(\"type in the time if you are only doing warm up type no time: \"))\n",
        "  elif option == \"remove\":\n",
        "    Set.remove_event(input(\"type in the event number\"))\n",
        "  elif option == \"see set\":\n",
        "    Set.show_full_set()\n",
        "  else:\n",
        "    break\n",
        "Set.show_full_set(final_one=True)"
      ]
    },
    {
      "cell_type": "code",
      "source": [],
      "metadata": {
        "id": "3FCUQjNGWigi"
      },
      "execution_count": null,
      "outputs": []
    },
    {
      "cell_type": "code",
      "source": [],
      "metadata": {
        "id": "v7xarNaxWfPZ"
      },
      "execution_count": null,
      "outputs": []
    },
    {
      "cell_type": "code",
      "source": [
        "from google.colab import drive\n",
        "drive.mount('/content/drive')\n",
        "\n",
        "with open(\"drive/My Drive/all_sets.txt\",'r') as set_reader:\n",
        "  for item in set_reader:\n",
        "    print(item)\n",
        "    if item == '________________________________________________________\\n':\n",
        "      a = input('do you want to see next set?')\n",
        "      if a == 'no':\n",
        "        break\n",
        "print('that is all sets!')"
      ],
      "metadata": {
        "id": "CdF2u5wDQXHT"
      },
      "execution_count": null,
      "outputs": []
    },
    {
      "cell_type": "code",
      "source": [
        "import matplotlib.pyplot as plt\n",
        "mode = 'a'\n",
        "if input('did you do this before type n or y') == 'n':\n",
        "  mode = 'w'\n",
        "swim_times = [int(input('what is your butterfly 25')),int(input('what is your backstorke 25')),int(input('what is your breaststroke 25')),int(input('what is your freestyle 25'))]\n",
        "if sum(swim_times)/len(swim_times) <5:\n",
        "  print('you are not that fast')\n",
        "  raise ValueError('you cant be that fast')\n",
        "if sum(swim_times)/len(swim_times) < 35:\n",
        "  if sum(swim_times)/len(swim_times) < 30:\n",
        "\n",
        "    if sum(swim_times)/len(swim_times) < 25:\n",
        "      if sum(swim_times)/len(swim_times) < 20:\n",
        "        if sum(swim_times)/len(swim_times) < 15:\n",
        "          print('you are a olympic person')\n",
        "        \n",
        "        else:\n",
        "          print('you are super duper good')\n",
        "      else:\n",
        "        print(\"you are intermediate\")\n",
        "    else:\n",
        "      print('you are a beeginer')\n",
        "  else:\n",
        "    print('you are a super begineer')\n",
        "else:\n",
        "  print('you just started swimming')\n",
        "plt.plot([15,15])\n",
        "plt.text(0,15,'olympic')\n",
        "plt.plot([20,20])\n",
        "plt.text(0,20,'advanced')\n",
        "plt.plot([25,25])\n",
        "plt.text(0,25,'intermediate')\n",
        "plt.plot([30,30])\n",
        "plt.text(0,30,'beeginer')\n",
        "plt.plot([35,35])\n",
        "plt.text(0,35,'starting swimming')\n",
        "plt.scatter(0.5,sum(swim_times)/len(swim_times))\n",
        "\n",
        "with open('times.txt',mode) as writer:\n",
        "  writer.write(str(sum(swim_times)/len(swim_times))+'\\n')\n"
      ],
      "metadata": {
        "id": "hdcWlZDHEkRb"
      },
      "execution_count": null,
      "outputs": []
    },
    {
      "cell_type": "code",
      "source": [
        "import matplotlib.pyplot as plt\n",
        "li = []\n",
        "i = 0\n",
        "with open('times.txt','r') as reader:\n",
        "  for line in reader:\n",
        "    i += 1\n",
        "    li.append(float(line))\n",
        "plt.plot(li)\n",
        "plt.plot([15 for x in range(0,i) ])\n",
        "plt.text(0,15,'olympic')\n",
        "plt.plot([20 for x in range(0,i)])\n",
        "plt.text(0,20,'advanced')\n",
        "plt.plot([25 for x in range(0,i)])\n",
        "plt.text(0,25,'intermediate')\n",
        "plt.plot([30 for x in range(0,i)])\n",
        "plt.text(0,30,'beeginer')\n",
        "plt.plot([35 for x in range(0,i)])\n",
        "plt.text(0,35,'starting swimming')\n",
        "print(li)"
      ],
      "metadata": {
        "id": "mZNrbOu7ElE6"
      },
      "execution_count": null,
      "outputs": []
    }
  ]
}